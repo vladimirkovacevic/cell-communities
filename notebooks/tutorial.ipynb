{
 "cells": [
  {
   "cell_type": "markdown",
   "metadata": {},
   "source": [
    "# Tutorial on sythetic cell data #"
   ]
  },
  {
   "cell_type": "code",
   "execution_count": null,
   "metadata": {},
   "outputs": [],
   "source": [
    "import os\n",
    "import sys\n",
    " \n",
    "import anndata as ad\n",
    "import numpy as np\n",
    "import matplotlib.pyplot as plt\n",
    "import matplotlib.ticker as mtick\n",
    "import pandas as pd\n",
    "import seaborn as sns\n",
    "import scanpy as sc\n",
    "\n",
    "from functools import reduce\n",
    "from itertools import cycle\n",
    "from matplotlib import pyplot as plt\n",
    "from collections import defaultdict\n",
    "from sklearn.datasets import make_blobs\n",
    "from sklearn.cluster import SpectralClustering, AgglomerativeClustering\n",
    "\n",
    "from anndata import AnnData\n",
    "from typing import List\n",
    "\n",
    "sys.path.append('../../cell-communities')\n",
    "# import main Class\n",
    "from community_detection import CommunityDetection\n",
    "from ccd import *"
   ]
  },
  {
   "cell_type": "markdown",
   "metadata": {},
   "source": [
    "### Create synthetic data\n",
    "\n",
    "Synthetic data is created using the scikit learn datasets make_blobs function.\n",
    "\n",
    "Three blobs are arranged to provide a simple case for community detection: one cell type spread throughout the tissue (magenta), and two have similar shapes that partially overlap (green and gold).\n",
    "\n",
    "The distribution of the spots is not uniform, but represents a good example for CCD."
   ]
  },
  {
   "cell_type": "code",
   "execution_count": null,
   "metadata": {},
   "outputs": [],
   "source": [
    "n_samples = 10000\n",
    "random_state = 170\n",
    "# create basic blob (magenta)\n",
    "X, y = make_blobs(n_samples=n_samples, centers=1, center_box = (0, 10), cluster_std=[1], random_state=random_state)\n",
    "# exponential transform of the blob (green)\n",
    "X_sq = np.array([[i, i*i*i + 2*np.random.random_sample()] for i, j in X])\n",
    "# translation of exponentially transformed blob to create the third blob (gold)\n",
    "X_sq2 = X_sq + (0, 1)\n",
    "\n",
    "# merge data\n",
    "X_agg = np.vstack((X, X_sq, X_sq2))\n",
    "# adjustment of coordinates to a range that is most common in the ST datasets\n",
    "X_agg[:,0] = (X_agg[:,0] * 2000).astype(int)\n",
    "X_agg[:,1] = (X_agg[:,1] * 1000).astype(int)\n",
    "# create labels (0,1,2)\n",
    "y_agg = np.array([0] * len(X) + [1] * len(X_sq) + [2] * len(X_sq2))\n",
    "# define color for each spot based on labels (0 - magenta, 1 - green, 2 - gold)\n",
    "y_color = np.array([\"#be398d\"] * len(X) + [\"#4fb06d\"] * len(X_sq) + [\"#d49137\"] * len(X_sq2))\n",
    "\n",
    "# slice the data to fit the frame [0:2800, 0:4000]\n",
    "slice_mask = (X_agg[:, 0] > 0) & (X_agg[:, 0] < 2800) & (X_agg[:, 1] > 0) & (X_agg[:, 1] < 4000)\n",
    "X_agg_sl = X_agg[slice_mask]\n",
    "y_agg_sl = y_agg[slice_mask]\n",
    "y_color_sl = y_color[slice_mask]\n",
    "\n",
    "# display the generated sample\n",
    "plt.figure\n",
    "plt.scatter(X_agg_sl[:, 0], X_agg_sl[:, 1], c=y_color_sl, s=0.25)\n",
    "plt.title(\"Synthetic sample with 3 cell types\")\n",
    "plt.show()"
   ]
  },
  {
   "cell_type": "markdown",
   "metadata": {},
   "source": [
    "### Dataframe from sample\n",
    "Organise x,y and labels (annotation) into one DataFrame"
   ]
  },
  {
   "cell_type": "code",
   "execution_count": null,
   "metadata": {},
   "outputs": [],
   "source": [
    "df = pd.DataFrame(X_agg_sl, columns=['x', 'y'])\n",
    "df.loc[:, 'annotation'] = y_agg_sl\n",
    "df"
   ]
  },
  {
   "cell_type": "markdown",
   "metadata": {},
   "source": [
    "### Convert the dataframe to anndata for CCD\n",
    "This code can also be used if a .csv is available with spatial coordinates (x,y) and cell type annotation. The .csv can be read using pandas function and then converted to AnnData format necessary for CCD.\n",
    "\n",
    "Coordinates are placed in .obsm['spatial'] ('X_spatial' and 'spatial_stereoseq' are also supported).\n",
    "\n",
    "Cell type annotation must be placed in .obs. Name od the annotation label is not defined, but needs to be provided as an argument to CCD.\n",
    "\n",
    "It is also necessary to provide .uns['annotation_colors'], a list of colors for each cell type."
   ]
  },
  {
   "cell_type": "code",
   "execution_count": null,
   "metadata": {},
   "outputs": [],
   "source": [
    "# gene expression is not needed, the X layer is filled with zeros\n",
    "adata = ad.AnnData(X=np.zeros(shape=(df.shape[0], 1)))\n",
    "# the range of synthetic data \n",
    "adata.obsm['spatial'] = df.loc[:, ['x','y']].values\n",
    "adata.obs['annotation'] = df.annotation.values.astype('str')\n",
    "adata.uns['annotation_colors'] = [\"#be398d\", \"#4fb06d\", \"#d49137\"]\n",
    "adata"
   ]
  },
  {
   "cell_type": "markdown",
   "metadata": {},
   "source": [
    "## Run CCD\n",
    "\n",
    "CCD can be run using the main class CommunityDetection. The object of this class requires only list of slices (Anndata objects) and annotation label.\n",
    "\n",
    "If window size is not provided CCD calculates an optimal window size and sets sliding step to the half of window size. Other default values for parameters can be found in README.\n",
    "\n",
    "Plotting argument can be changed to provide different levels of data and results visualization. Its values goes from 0 to 5 (default 2)."
   ]
  },
  {
   "cell_type": "markdown",
   "metadata": {},
   "source": [
    "### Run with default arguments"
   ]
  },
  {
   "cell_type": "code",
   "execution_count": null,
   "metadata": {},
   "outputs": [],
   "source": [
    "cd = CommunityDetection([adata], annotation='annotation')\n",
    "cd.run()"
   ]
  },
  {
   "cell_type": "markdown",
   "metadata": {},
   "source": [
    "### Run with adjusted arguments and Agglomerative ward liknage clustering"
   ]
  },
  {
   "cell_type": "code",
   "execution_count": null,
   "metadata": {},
   "outputs": [],
   "source": [
    "cd = CommunityDetection([adata], annotation='annotation', cluster_algo='agglomerative', n_clusters=4, plotting=3)\n",
    "cd.run()"
   ]
  }
 ],
 "metadata": {
  "kernelspec": {
   "display_name": "gcn",
   "language": "python",
   "name": "python3"
  },
  "language_info": {
   "codemirror_mode": {
    "name": "ipython",
    "version": 3
   },
   "file_extension": ".py",
   "mimetype": "text/x-python",
   "name": "python",
   "nbconvert_exporter": "python",
   "pygments_lexer": "ipython3",
   "version": "3.8.16"
  },
  "orig_nbformat": 4,
  "vscode": {
   "interpreter": {
    "hash": "dbc274a6149859e706f3749f9b87a8e23c5c9f89df52f0f6246c95388129d77c"
   }
  }
 },
 "nbformat": 4,
 "nbformat_minor": 2
}
