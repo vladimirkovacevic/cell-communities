{
 "cells": [
  {
   "cell_type": "markdown",
   "metadata": {},
   "source": [
    "# How to run CCD? #"
   ]
  },
  {
   "cell_type": "markdown",
   "metadata": {},
   "source": [
    "### From command line\n",
    "\n",
    "Use: \n",
    "> python main.py -f <file_path> -a <annotation_label>\n",
    "\n",
    "Additional arguments and their explanation can be found in README."
   ]
  },
  {
   "cell_type": "code",
   "execution_count": null,
   "metadata": {},
   "outputs": [],
   "source": [
    "!python ../main.py -f /goofys/Samples/slide_seq/mouse_testis/wt/WT3_ct.h5ad,/goofys/Samples/slide_seq/mouse_testis/diabetes/Diabetes2_ct.h5ad -a annotation"
   ]
  },
  {
   "cell_type": "markdown",
   "metadata": {},
   "source": [
    "To run CCD with user specified arguments, add them to the command line. This example shows CCD with multiple window sizes, 100 and 150, sliding steps 50 and 75, agglomerative (hierarchical) clustering algorithm with 7 clusters:"
   ]
  },
  {
   "cell_type": "code",
   "execution_count": null,
   "metadata": {},
   "outputs": [],
   "source": [
    "!python ../main.py -f /goofys/Samples/slide_seq/mouse_testis/wt/WT3_ct.h5ad,/goofys/Samples/slide_seq/mouse_testis/diabetes/Diabetes2_ct.h5ad -a annotation --win_sizes 100,150 --sliding_steps 50,75 --cluster_algo agglomerative --n_clusters 7 --plotting 3"
   ]
  },
  {
   "cell_type": "markdown",
   "metadata": {},
   "source": [
    "### Input as a .csv file\n",
    "\n",
    "Input file can also be a .csv with four columns, 'cell_ID' - observation names,  'x','y' - spatial coordinates and <annotation> column with cell type annotation names. <annotation> is a required parameter since most of samples have different label for this column."
   ]
  },
  {
   "cell_type": "code",
   "execution_count": null,
   "metadata": {},
   "outputs": [],
   "source": [
    "!python ../main.py -f /goofys/Samples/slide_seq/mouse_testis/wt/WT3_ct.h5ad,/goofys/Samples/slide_seq/mouse_testis/diabetes/Diabetes2_ct.csv -a annotation --win_sizes 100,150 --sliding_steps 50,75 --cluster_algo agglomerative --n_clusters 7 --plotting 3"
   ]
  },
  {
   "cell_type": "markdown",
   "metadata": {},
   "source": [
    "### From Jupyter notebook\n",
    "\n",
    "Import CommunityDetection class and cell-communities/ccd folder."
   ]
  },
  {
   "cell_type": "code",
   "execution_count": null,
   "metadata": {},
   "outputs": [],
   "source": [
    "# import scanpy for reading h5ad files\n",
    "import scanpy as sc\n",
    "\n",
    "# tutorial is in cell-communities/notebooks, while main.py is in cell-communities/ folder\n",
    "# we need to include the parent folder\n",
    "import sys\n",
    "sys.path.append(\"../\")\n",
    "from community_detection import CommunityDetection"
   ]
  },
  {
   "cell_type": "markdown",
   "metadata": {},
   "source": [
    "Initialize an object of CommunityDetection with sample .h5ad file path and <annotation_label> as required parameters. For additional parameterd see README.\n",
    " "
   ]
  },
  {
   "cell_type": "code",
   "execution_count": null,
   "metadata": {},
   "outputs": [],
   "source": [
    "file_paths = [\"/goofys/Samples/slide_seq/mouse_testis/wt/WT3_ct.h5ad\",\"/goofys/Samples/slide_seq/mouse_testis/diabetes/Diabetes2_ct.h5ad\"]\n",
    "annotation_label = \"annotation\"\n",
    "\n",
    "data_list = []\n",
    "for filename in file_paths:\n",
    "    data_list.append(sc.read(filename))\n",
    "cd = CommunityDetection(data_list, annotation=annotation_label, plotting=1)\n",
    "cd.run()"
   ]
  },
  {
   "cell_type": "markdown",
   "metadata": {},
   "source": [
    "To run CCD with user specified arguments, add them as arguments to constructor of CommunityDetection object. This example shows CCD with multiple window sizes, 100 and 150, sliding steps 50 and 75, agglomerative (hierarchical) clustering algorithm with 7 clusters:"
   ]
  },
  {
   "cell_type": "code",
   "execution_count": null,
   "metadata": {},
   "outputs": [],
   "source": [
    "cd = CommunityDetection(data_list, annotation=annotation_label, win_sizes='100,150', sliding_steps='50,75', cluster_algo='agglomerative', n_clusters=7, plotting=1)\n",
    "cd.run()"
   ]
  },
  {
   "cell_type": "markdown",
   "metadata": {},
   "source": [
    "### Input as .csv file\n",
    "\n",
    "Sample .csv file contains 4 columns with observation names ('cell_ID'), spatial coordinates ('x' and 'y') and cell type annotation (<annotation>). Optionally, the .csv file can contain more than these 4 columns, but the mentioned 4 are necessary for running the CCD.\n",
    "\n",
    "Separate function, \"csv_to_anndata\", for reading the .csv file and creating an Anndata object with adequate .obsm and .obs data is used."
   ]
  },
  {
   "cell_type": "code",
   "execution_count": null,
   "metadata": {},
   "outputs": [],
   "source": [
    "# tutorial is in cell-communities/notebooks, while main.py is in cell-communities/ folder\n",
    "# we need to include the parent folder\n",
    "import sys\n",
    "sys.path.append(\"../\")\n",
    "from community_detection import CommunityDetection\n",
    "\n",
    "from ccd.utils import csv_to_anndata"
   ]
  },
  {
   "cell_type": "code",
   "execution_count": null,
   "metadata": {},
   "outputs": [],
   "source": [
    "file_paths = [\"/goofys/Samples/slide_seq/mouse_testis/wt/WT3_ct.csv\",\"/goofys/Samples/slide_seq/mouse_testis/diabetes/Diabetes2_ct.csv\"]\n",
    "annotation_label = \"annotation\"\n",
    "\n",
    "data_list = []\n",
    "for filename in file_paths:\n",
    "    data_list.append(csv_to_anndata(filename, annotation=annotation_label))\n",
    "cd = CommunityDetection(data_list, annotation=annotation_label, plotting=1)\n",
    "cd.run()"
   ]
  }
 ],
 "metadata": {
  "kernelspec": {
   "display_name": "ccd_env",
   "language": "python",
   "name": "python3"
  },
  "language_info": {
   "codemirror_mode": {
    "name": "ipython",
    "version": 3
   },
   "file_extension": ".py",
   "mimetype": "text/x-python",
   "name": "python",
   "nbconvert_exporter": "python",
   "pygments_lexer": "ipython3",
   "version": "3.8.17 (default, Jul  5 2023, 21:04:15) \n[GCC 11.2.0]"
  },
  "orig_nbformat": 4,
  "vscode": {
   "interpreter": {
    "hash": "13f46e0a34e0f50566e6ca9761cbdce856887f2526646a151ae677110699c4ca"
   }
  }
 },
 "nbformat": 4,
 "nbformat_minor": 2
}
